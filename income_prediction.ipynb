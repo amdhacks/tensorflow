{
  "nbformat": 4,
  "nbformat_minor": 0,
  "metadata": {
    "colab": {
      "name": "Colab's New Code Editor",
      "provenance": [],
      "collapsed_sections": [],
      "include_colab_link": true
    },
    "kernelspec": {
      "display_name": "Python 3",
      "name": "python3"
    }
  },
  "cells": [
    {
      "cell_type": "markdown",
      "metadata": {
        "id": "view-in-github",
        "colab_type": "text"
      },
      "source": [
        "<a href=\"https://colab.research.google.com/github/amdhacks/tensorflow/blob/master/income_prediction.ipynb\" target=\"_parent\"><img src=\"https://colab.research.google.com/assets/colab-badge.svg\" alt=\"Open In Colab\"/></a>"
      ]
    },
    {
      "cell_type": "markdown",
      "metadata": {
        "colab_type": "text",
        "id": "qTXOGdaz4wy0"
      },
      "source": [
        "# Richer syntax highlighting\n",
        "\n",
        "Improved support for nested languages:\n",
        "\n",
        "```notebook-python\n",
        "df = pd.io.gbq.read_gbq('''\n",
        "  SELECT \n",
        "    REGEXP_EXTRACT(name, '[a-zA-Z]+'),\n",
        "    SUM(number) as count\n",
        "  FROM `bigquery-public-data.usa_names.usa_1910_2013`\n",
        "  WHERE state = 'TX'\n",
        "  GROUP BY name\n",
        "  ORDER BY count DESC\n",
        "  LIMIT 100\n",
        "''')\n",
        "```"
      ]
    },
    {
      "cell_type": "markdown",
      "metadata": {
        "id": "xqnFpH9d_aAu",
        "colab_type": "text"
      },
      "source": [
        "We will be using Tensorflow to solve this challenge although we can use any ML library to perform this like sckitlearn etc."
      ]
    },
    {
      "cell_type": "markdown",
      "metadata": {
        "id": "FpzbLi1YbxYa",
        "colab_type": "text"
      },
      "source": [
        "**Data Prepration**\n"
      ]
    },
    {
      "cell_type": "code",
      "metadata": {
        "id": "irn7uGdrsM9V",
        "colab_type": "code",
        "colab": {}
      },
      "source": [
        "from __future__ import absolute_import, division, print_function, unicode_literals"
      ],
      "execution_count": 0,
      "outputs": []
    },
    {
      "cell_type": "code",
      "metadata": {
        "id": "5iOrjJihsUBZ",
        "colab_type": "code",
        "colab": {}
      },
      "source": [
        "try:\n",
        "  # Use the %tensorflow_version magic if in colab.\n",
        "  %tensorflow_version 2.x\n",
        "except Exception:\n",
        "  pass\n",
        "\n",
        "import tensorflow as tf"
      ],
      "execution_count": 0,
      "outputs": []
    },
    {
      "cell_type": "code",
      "metadata": {
        "id": "PReyqGQFsYiZ",
        "colab_type": "code",
        "colab": {}
      },
      "source": [
        "import numpy as np\n",
        "import logging\n",
        "logger = tf.get_logger()\n",
        "logger.setLevel(logging.ERROR)"
      ],
      "execution_count": 0,
      "outputs": []
    },
    {
      "cell_type": "code",
      "metadata": {
        "id": "t87XLflGse1n",
        "colab_type": "code",
        "outputId": "23e8b479-05f5-420d-d052-57230ec29358",
        "colab": {
          "resources": {
            "http://localhost:8080/nbextensions/google.colab/files.js": {
              "data": "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",
              "ok": true,
              "headers": [
                [
                  "content-type",
                  "application/javascript"
                ]
              ],
              "status": 200,
              "status_text": "OK"
            }
          },
          "base_uri": "https://localhost:8080/",
          "height": 244
        }
      },
      "source": [
        "#Upload source files\n",
        "from google.colab import files\n",
        "\n",
        "uploaded = files.upload()\n",
        "\n",
        "for fn in uploaded.keys():\n",
        "  print('User uploaded file \"{name}\" with length {length} bytes'.format(\n",
        "      name=fn, length=len(uploaded[fn])))"
      ],
      "execution_count": 209,
      "outputs": [
        {
          "output_type": "display_data",
          "data": {
            "text/html": [
              "\n",
              "     <input type=\"file\" id=\"files-97a67ed8-f8f4-43f9-8c5f-c23dcebd724a\" name=\"files[]\" multiple disabled />\n",
              "     <output id=\"result-97a67ed8-f8f4-43f9-8c5f-c23dcebd724a\">\n",
              "      Upload widget is only available when the cell has been executed in the\n",
              "      current browser session. Please rerun this cell to enable.\n",
              "      </output>\n",
              "      <script src=\"/nbextensions/google.colab/files.js\"></script> "
            ],
            "text/plain": [
              "<IPython.core.display.HTML object>"
            ]
          },
          "metadata": {
            "tags": []
          }
        },
        {
          "output_type": "stream",
          "text": [
            "Saving state1.csv to state1 (3).csv\n",
            "Saving state2.csv to state2 (1).csv\n",
            "Saving state3.csv to state3 (1).csv\n",
            "Saving state4.csv to state4 (1).csv\n",
            "User uploaded file \"state1.csv\" with length 4163 bytes\n",
            "User uploaded file \"state2.csv\" with length 5050 bytes\n",
            "User uploaded file \"state3.csv\" with length 4918 bytes\n",
            "User uploaded file \"state4.csv\" with length 2956 bytes\n"
          ],
          "name": "stdout"
        }
      ]
    },
    {
      "cell_type": "code",
      "metadata": {
        "id": "qIKCJ8LankYY",
        "colab_type": "code",
        "colab": {}
      },
      "source": [
        "#Reading source files\n",
        "import pandas as pd\n",
        "household=pd.read_csv('./state1.csv',skiprows=5)\n",
        "family=pd.read_csv('./state2.csv',skiprows=4)\n",
        "pci=pd.read_csv('./state3.csv')\n",
        "gini=pd.read_csv('./state4.csv')"
      ],
      "execution_count": 0,
      "outputs": []
    },
    {
      "cell_type": "code",
      "metadata": {
        "id": "5Wi7aI2Wu8bR",
        "colab_type": "code",
        "colab": {}
      },
      "source": [
        "household.columns=['hou_state','hou_1999d','hou_1989cd','hou_1989_1999d','hou_1979cd','hou_1979_199d','hou_1969cd','hou_1969_1999d']\n",
        "\n"
      ],
      "execution_count": 0,
      "outputs": []
    },
    {
      "cell_type": "code",
      "metadata": {
        "id": "Fh8ap1rFzjC8",
        "colab_type": "code",
        "colab": {}
      },
      "source": [
        "family.columns=['fam_state','fam_1999d','fam_1989cd','fam_1989_1999d','fam_1979cd','fam_1979_199d','fam_1969cd','fam_1969_1999d','fam_1959cd','fam_1959_1999d']\n"
      ],
      "execution_count": 0,
      "outputs": []
    },
    {
      "cell_type": "code",
      "metadata": {
        "id": "slnJ0oH4yrlz",
        "colab_type": "code",
        "colab": {
          "base_uri": "https://localhost:8080/",
          "height": 204
        },
        "outputId": "7ada0e6b-ff23-4ad3-dbe0-31aa615ac6f5"
      },
      "source": [
        "family.head(5)"
      ],
      "execution_count": 213,
      "outputs": [
        {
          "output_type": "execute_result",
          "data": {
            "text/html": [
              "<div>\n",
              "<style scoped>\n",
              "    .dataframe tbody tr th:only-of-type {\n",
              "        vertical-align: middle;\n",
              "    }\n",
              "\n",
              "    .dataframe tbody tr th {\n",
              "        vertical-align: top;\n",
              "    }\n",
              "\n",
              "    .dataframe thead th {\n",
              "        text-align: right;\n",
              "    }\n",
              "</style>\n",
              "<table border=\"1\" class=\"dataframe\">\n",
              "  <thead>\n",
              "    <tr style=\"text-align: right;\">\n",
              "      <th></th>\n",
              "      <th>fam_state</th>\n",
              "      <th>fam_1999d</th>\n",
              "      <th>fam_1989cd</th>\n",
              "      <th>fam_1989_1999d</th>\n",
              "      <th>fam_1979cd</th>\n",
              "      <th>fam_1979_199d</th>\n",
              "      <th>fam_1969cd</th>\n",
              "      <th>fam_1969_1999d</th>\n",
              "      <th>fam_1959cd</th>\n",
              "      <th>fam_1959_1999d</th>\n",
              "    </tr>\n",
              "  </thead>\n",
              "  <tbody>\n",
              "    <tr>\n",
              "      <th>0</th>\n",
              "      <td>State</td>\n",
              "      <td>1999</td>\n",
              "      <td>Current dollars</td>\n",
              "      <td>1999 dollars</td>\n",
              "      <td>Current dollars</td>\n",
              "      <td>1999 dollars</td>\n",
              "      <td>Current dollars</td>\n",
              "      <td>1999 dollars</td>\n",
              "      <td>Current dollars</td>\n",
              "      <td>1999 dollars</td>\n",
              "    </tr>\n",
              "    <tr>\n",
              "      <th>1</th>\n",
              "      <td>United States</td>\n",
              "      <td>$50,046</td>\n",
              "      <td>$35,225</td>\n",
              "      <td>$45,956</td>\n",
              "      <td>$19,917</td>\n",
              "      <td>$42,609</td>\n",
              "      <td>$9,586</td>\n",
              "      <td>$37,559</td>\n",
              "      <td>$5,660</td>\n",
              "      <td>$27,632</td>\n",
              "    </tr>\n",
              "    <tr>\n",
              "      <th>2</th>\n",
              "      <td>Alabama</td>\n",
              "      <td>41,657</td>\n",
              "      <td>28,688</td>\n",
              "      <td>37,428</td>\n",
              "      <td>16,347</td>\n",
              "      <td>34,972</td>\n",
              "      <td>7,266</td>\n",
              "      <td>28,469</td>\n",
              "      <td>3,937</td>\n",
              "      <td>19,220</td>\n",
              "    </tr>\n",
              "    <tr>\n",
              "      <th>3</th>\n",
              "      <td>Alaska</td>\n",
              "      <td>59,036</td>\n",
              "      <td>46,581</td>\n",
              "      <td>60,772</td>\n",
              "      <td>28,395</td>\n",
              "      <td>60,747</td>\n",
              "      <td>12,441</td>\n",
              "      <td>48,746</td>\n",
              "      <td>7,305</td>\n",
              "      <td>35,663</td>\n",
              "    </tr>\n",
              "    <tr>\n",
              "      <th>4</th>\n",
              "      <td>Arizona</td>\n",
              "      <td>46,723</td>\n",
              "      <td>32,178</td>\n",
              "      <td>41,981</td>\n",
              "      <td>19,017</td>\n",
              "      <td>40,684</td>\n",
              "      <td>9,185</td>\n",
              "      <td>35,988</td>\n",
              "      <td>5,568</td>\n",
              "      <td>27,183</td>\n",
              "    </tr>\n",
              "  </tbody>\n",
              "</table>\n",
              "</div>"
            ],
            "text/plain": [
              "       fam_state fam_1999d  ...       fam_1959cd fam_1959_1999d\n",
              "0          State      1999  ...  Current dollars   1999 dollars\n",
              "1  United States   $50,046  ...           $5,660        $27,632\n",
              "2        Alabama    41,657  ...            3,937         19,220\n",
              "3         Alaska    59,036  ...            7,305         35,663\n",
              "4        Arizona    46,723  ...            5,568         27,183\n",
              "\n",
              "[5 rows x 10 columns]"
            ]
          },
          "metadata": {
            "tags": []
          },
          "execution_count": 213
        }
      ]
    },
    {
      "cell_type": "code",
      "metadata": {
        "id": "c9iHWd9Azs9R",
        "colab_type": "code",
        "colab": {}
      },
      "source": [
        "#Rename Per Capita Income(PCI) columns\n",
        "pci.columns=['pci_state','pci_1999d','pci_1989cd','pci_1989_1999d','pci_1979cd','pci_1979_1999d','pci_1969cd','pci_1969_1999d','pci_1959cd','pci_1959_1999d']\n"
      ],
      "execution_count": 0,
      "outputs": []
    },
    {
      "cell_type": "code",
      "metadata": {
        "id": "2Z3254O7uE61",
        "colab_type": "code",
        "colab": {
          "base_uri": "https://localhost:8080/",
          "height": 204
        },
        "outputId": "0dd59ccc-ad3a-4403-bbb1-812f7a18e024"
      },
      "source": [
        "pci.head(5)"
      ],
      "execution_count": 215,
      "outputs": [
        {
          "output_type": "execute_result",
          "data": {
            "text/html": [
              "<div>\n",
              "<style scoped>\n",
              "    .dataframe tbody tr th:only-of-type {\n",
              "        vertical-align: middle;\n",
              "    }\n",
              "\n",
              "    .dataframe tbody tr th {\n",
              "        vertical-align: top;\n",
              "    }\n",
              "\n",
              "    .dataframe thead th {\n",
              "        text-align: right;\n",
              "    }\n",
              "</style>\n",
              "<table border=\"1\" class=\"dataframe\">\n",
              "  <thead>\n",
              "    <tr style=\"text-align: right;\">\n",
              "      <th></th>\n",
              "      <th>pci_state</th>\n",
              "      <th>pci_1999d</th>\n",
              "      <th>pci_1989cd</th>\n",
              "      <th>pci_1989_1999d</th>\n",
              "      <th>pci_1979cd</th>\n",
              "      <th>pci_1979_1999d</th>\n",
              "      <th>pci_1969cd</th>\n",
              "      <th>pci_1969_1999d</th>\n",
              "      <th>pci_1959cd</th>\n",
              "      <th>pci_1959_1999d</th>\n",
              "    </tr>\n",
              "  </thead>\n",
              "  <tbody>\n",
              "    <tr>\n",
              "      <th>0</th>\n",
              "      <td>State</td>\n",
              "      <td>1999</td>\n",
              "      <td>Current dollars</td>\n",
              "      <td>1999 dollars</td>\n",
              "      <td>Current dollars</td>\n",
              "      <td>1999 dollars</td>\n",
              "      <td>Current dollars</td>\n",
              "      <td>1999 dollars</td>\n",
              "      <td>Current dollars</td>\n",
              "      <td>1999 dollars</td>\n",
              "    </tr>\n",
              "    <tr>\n",
              "      <th>1</th>\n",
              "      <td>United States</td>\n",
              "      <td>$21,587</td>\n",
              "      <td>$14,420</td>\n",
              "      <td>$18,715</td>\n",
              "      <td>$7,298</td>\n",
              "      <td>$15,523</td>\n",
              "      <td>$3,119</td>\n",
              "      <td>$12,151</td>\n",
              "      <td>$1,850</td>\n",
              "      <td>$8,980</td>\n",
              "    </tr>\n",
              "    <tr>\n",
              "      <th>2</th>\n",
              "      <td>Alabama</td>\n",
              "      <td>18,189</td>\n",
              "      <td>11,486</td>\n",
              "      <td>14,907</td>\n",
              "      <td>5,894</td>\n",
              "      <td>12,537</td>\n",
              "      <td>2,317</td>\n",
              "      <td>9,026</td>\n",
              "      <td>1,246</td>\n",
              "      <td>6,048</td>\n",
              "    </tr>\n",
              "    <tr>\n",
              "      <th>3</th>\n",
              "      <td>Alaska</td>\n",
              "      <td>22,660</td>\n",
              "      <td>17,610</td>\n",
              "      <td>22,855</td>\n",
              "      <td>10,193</td>\n",
              "      <td>21,681</td>\n",
              "      <td>3,725</td>\n",
              "      <td>14,511</td>\n",
              "      <td>2,259</td>\n",
              "      <td>10,965</td>\n",
              "    </tr>\n",
              "    <tr>\n",
              "      <th>4</th>\n",
              "      <td>Arizona</td>\n",
              "      <td>20,275</td>\n",
              "      <td>13,461</td>\n",
              "      <td>17,471</td>\n",
              "      <td>7,041</td>\n",
              "      <td>14,977</td>\n",
              "      <td>2,937</td>\n",
              "      <td>11,442</td>\n",
              "      <td>1,764</td>\n",
              "      <td>8,562</td>\n",
              "    </tr>\n",
              "  </tbody>\n",
              "</table>\n",
              "</div>"
            ],
            "text/plain": [
              "       pci_state pci_1999d  ...       pci_1959cd pci_1959_1999d\n",
              "0          State      1999  ...  Current dollars   1999 dollars\n",
              "1  United States   $21,587  ...           $1,850         $8,980\n",
              "2        Alabama    18,189  ...            1,246          6,048\n",
              "3         Alaska    22,660  ...            2,259         10,965\n",
              "4        Arizona    20,275  ...            1,764          8,562\n",
              "\n",
              "[5 rows x 10 columns]"
            ]
          },
          "metadata": {
            "tags": []
          },
          "execution_count": 215
        }
      ]
    },
    {
      "cell_type": "code",
      "metadata": {
        "id": "A5DNpKQN04hA",
        "colab_type": "code",
        "colab": {}
      },
      "source": [
        "#Rename Gini Ration Columns\n",
        "gini.columns=['gini_state','gini_hou1999','gini_hou1989','gini_hou1979','gini_fam1999','gini_fam1989','gini_fam1979','gini_fam1969']\n"
      ],
      "execution_count": 0,
      "outputs": []
    },
    {
      "cell_type": "code",
      "metadata": {
        "id": "IQm66vLH1RtG",
        "colab_type": "code",
        "colab": {
          "base_uri": "https://localhost:8080/",
          "height": 204
        },
        "outputId": "e12f1f94-38e6-4eee-8f17-1bfdb18a2461"
      },
      "source": [
        "gini.head(5)"
      ],
      "execution_count": 217,
      "outputs": [
        {
          "output_type": "execute_result",
          "data": {
            "text/html": [
              "<div>\n",
              "<style scoped>\n",
              "    .dataframe tbody tr th:only-of-type {\n",
              "        vertical-align: middle;\n",
              "    }\n",
              "\n",
              "    .dataframe tbody tr th {\n",
              "        vertical-align: top;\n",
              "    }\n",
              "\n",
              "    .dataframe thead th {\n",
              "        text-align: right;\n",
              "    }\n",
              "</style>\n",
              "<table border=\"1\" class=\"dataframe\">\n",
              "  <thead>\n",
              "    <tr style=\"text-align: right;\">\n",
              "      <th></th>\n",
              "      <th>gini_state</th>\n",
              "      <th>gini_hou1999</th>\n",
              "      <th>gini_hou1989</th>\n",
              "      <th>gini_hou1979</th>\n",
              "      <th>gini_fam1999</th>\n",
              "      <th>gini_fam1989</th>\n",
              "      <th>gini_fam1979</th>\n",
              "      <th>gini_fam1969</th>\n",
              "    </tr>\n",
              "  </thead>\n",
              "  <tbody>\n",
              "    <tr>\n",
              "      <th>0</th>\n",
              "      <td>State</td>\n",
              "      <td>1999.000</td>\n",
              "      <td>1989.000</td>\n",
              "      <td>1979.000</td>\n",
              "      <td>1999.000</td>\n",
              "      <td>1989.000</td>\n",
              "      <td>1979</td>\n",
              "      <td>1969.000</td>\n",
              "    </tr>\n",
              "    <tr>\n",
              "      <th>1</th>\n",
              "      <td>United States</td>\n",
              "      <td>0.463</td>\n",
              "      <td>0.445</td>\n",
              "      <td>0.415</td>\n",
              "      <td>0.434</td>\n",
              "      <td>0.414</td>\n",
              "      <td>(NA)</td>\n",
              "      <td>0.361</td>\n",
              "    </tr>\n",
              "    <tr>\n",
              "      <th>2</th>\n",
              "      <td>Alabama</td>\n",
              "      <td>0.475</td>\n",
              "      <td>0.458</td>\n",
              "      <td>0.427</td>\n",
              "      <td>0.435</td>\n",
              "      <td>0.418</td>\n",
              "      <td>0.385</td>\n",
              "      <td>0.393</td>\n",
              "    </tr>\n",
              "    <tr>\n",
              "      <th>3</th>\n",
              "      <td>Alaska</td>\n",
              "      <td>0.402</td>\n",
              "      <td>0.397</td>\n",
              "      <td>0.393</td>\n",
              "      <td>0.377</td>\n",
              "      <td>0.387</td>\n",
              "      <td>0.369</td>\n",
              "      <td>0.366</td>\n",
              "    </tr>\n",
              "    <tr>\n",
              "      <th>4</th>\n",
              "      <td>Arizona</td>\n",
              "      <td>0.450</td>\n",
              "      <td>0.439</td>\n",
              "      <td>0.399</td>\n",
              "      <td>0.429</td>\n",
              "      <td>0.413</td>\n",
              "      <td>0.365</td>\n",
              "      <td>0.363</td>\n",
              "    </tr>\n",
              "  </tbody>\n",
              "</table>\n",
              "</div>"
            ],
            "text/plain": [
              "      gini_state  gini_hou1999  ...  gini_fam1979  gini_fam1969\n",
              "0          State      1999.000  ...          1979      1969.000\n",
              "1  United States         0.463  ...          (NA)         0.361\n",
              "2        Alabama         0.475  ...         0.385         0.393\n",
              "3         Alaska         0.402  ...         0.369         0.366\n",
              "4        Arizona         0.450  ...         0.365         0.363\n",
              "\n",
              "[5 rows x 8 columns]"
            ]
          },
          "metadata": {
            "tags": []
          },
          "execution_count": 217
        }
      ]
    },
    {
      "cell_type": "code",
      "metadata": {
        "id": "3KpQ5Vbs4sTH",
        "colab_type": "code",
        "colab": {}
      },
      "source": [
        ""
      ],
      "execution_count": 0,
      "outputs": []
    },
    {
      "cell_type": "code",
      "metadata": {
        "id": "8VPRKnNB379S",
        "colab_type": "code",
        "colab": {}
      },
      "source": [
        "#Drop first two lines from each dataframe as we create columns and also we dont need united states data for \n",
        "household.drop([0,1],axis=0,inplace=True)\n",
        "family.drop([0,1],axis=0,inplace=True)\n",
        "pci.drop([0,1],axis=0,inplace=True)\n",
        "gini.drop([0,1],axis=0,inplace=True)\n"
      ],
      "execution_count": 0,
      "outputs": []
    },
    {
      "cell_type": "code",
      "metadata": {
        "id": "7liPhtGM7ONg",
        "colab_type": "code",
        "colab": {}
      },
      "source": [
        ""
      ],
      "execution_count": 0,
      "outputs": []
    },
    {
      "cell_type": "code",
      "metadata": {
        "id": "fvPUNSk45HlN",
        "colab_type": "code",
        "colab": {}
      },
      "source": [
        "#Drop na values\n",
        "gini.dropna(how='any',thresh=2,axis=0,inplace=True)\n",
        "household.dropna(how='any',thresh=2,axis=0,inplace=True)\n",
        "family.dropna(how='any',thresh=2,axis=0,inplace=True)\n",
        "pci.dropna(how='any',thresh=2,axis=0,inplace=True)\n",
        "\n"
      ],
      "execution_count": 0,
      "outputs": []
    },
    {
      "cell_type": "code",
      "metadata": {
        "id": "IpVytOIZ4y37",
        "colab_type": "code",
        "colab": {
          "base_uri": "https://localhost:8080/",
          "height": 85
        },
        "outputId": "4ef01ced-44dc-47cb-e16e-f83982df81f2"
      },
      "source": [
        "#Find how many rows are in each dataframe. All of the data frames should have same number of rows for correct mapping of columns\n",
        "print('Row count in household',len(household))\n",
        "print('Row count in family',len(family))\n",
        "print('Row count in pci',len(pci))\n",
        "print('Row count in gini',len(gini))\n"
      ],
      "execution_count": 220,
      "outputs": [
        {
          "output_type": "stream",
          "text": [
            "Row count in household 51\n",
            "Row count in family 51\n",
            "Row count in pci 51\n",
            "Row count in gini 51\n"
          ],
          "name": "stdout"
        }
      ]
    },
    {
      "cell_type": "code",
      "metadata": {
        "id": "CdqQA3m-qQCt",
        "colab_type": "code",
        "colab": {}
      },
      "source": [
        "#Concatenate column all the source file dataframes to create a unified dataframe\n",
        "sourcedata=pd.concat([household,family,pci,gini],axis=1)"
      ],
      "execution_count": 0,
      "outputs": []
    },
    {
      "cell_type": "code",
      "metadata": {
        "id": "pZS_aiFIoLsm",
        "colab_type": "code",
        "colab": {}
      },
      "source": [
        "#Removing all the commas\n",
        "for col in sourcedata.columns:\n",
        "    sourcedata[col] = sourcedata[col].apply(lambda x:str(x).replace(',',''))"
      ],
      "execution_count": 0,
      "outputs": []
    },
    {
      "cell_type": "code",
      "metadata": {
        "id": "H50FNtFMCZzO",
        "colab_type": "code",
        "colab": {
          "base_uri": "https://localhost:8080/",
          "height": 224
        },
        "outputId": "d3762299-c566-49d7-8bc1-01a66c09f58b"
      },
      "source": [
        "sourcedata.head(5)"
      ],
      "execution_count": 223,
      "outputs": [
        {
          "output_type": "execute_result",
          "data": {
            "text/html": [
              "<div>\n",
              "<style scoped>\n",
              "    .dataframe tbody tr th:only-of-type {\n",
              "        vertical-align: middle;\n",
              "    }\n",
              "\n",
              "    .dataframe tbody tr th {\n",
              "        vertical-align: top;\n",
              "    }\n",
              "\n",
              "    .dataframe thead th {\n",
              "        text-align: right;\n",
              "    }\n",
              "</style>\n",
              "<table border=\"1\" class=\"dataframe\">\n",
              "  <thead>\n",
              "    <tr style=\"text-align: right;\">\n",
              "      <th></th>\n",
              "      <th>hou_state</th>\n",
              "      <th>hou_1999d</th>\n",
              "      <th>hou_1989cd</th>\n",
              "      <th>hou_1989_1999d</th>\n",
              "      <th>hou_1979cd</th>\n",
              "      <th>hou_1979_199d</th>\n",
              "      <th>hou_1969cd</th>\n",
              "      <th>hou_1969_1999d</th>\n",
              "      <th>fam_state</th>\n",
              "      <th>fam_1999d</th>\n",
              "      <th>fam_1989cd</th>\n",
              "      <th>fam_1989_1999d</th>\n",
              "      <th>fam_1979cd</th>\n",
              "      <th>fam_1979_199d</th>\n",
              "      <th>fam_1969cd</th>\n",
              "      <th>fam_1969_1999d</th>\n",
              "      <th>fam_1959cd</th>\n",
              "      <th>fam_1959_1999d</th>\n",
              "      <th>pci_state</th>\n",
              "      <th>pci_1999d</th>\n",
              "      <th>pci_1989cd</th>\n",
              "      <th>pci_1989_1999d</th>\n",
              "      <th>pci_1979cd</th>\n",
              "      <th>pci_1979_1999d</th>\n",
              "      <th>pci_1969cd</th>\n",
              "      <th>pci_1969_1999d</th>\n",
              "      <th>pci_1959cd</th>\n",
              "      <th>pci_1959_1999d</th>\n",
              "      <th>gini_state</th>\n",
              "      <th>gini_hou1999</th>\n",
              "      <th>gini_hou1989</th>\n",
              "      <th>gini_hou1979</th>\n",
              "      <th>gini_fam1999</th>\n",
              "      <th>gini_fam1989</th>\n",
              "      <th>gini_fam1979</th>\n",
              "      <th>gini_fam1969</th>\n",
              "    </tr>\n",
              "  </thead>\n",
              "  <tbody>\n",
              "    <tr>\n",
              "      <th>2</th>\n",
              "      <td>Alabama</td>\n",
              "      <td>34135</td>\n",
              "      <td>23597</td>\n",
              "      <td>30786</td>\n",
              "      <td>13669</td>\n",
              "      <td>29243</td>\n",
              "      <td>6419</td>\n",
              "      <td>25151</td>\n",
              "      <td>Alabama</td>\n",
              "      <td>41657</td>\n",
              "      <td>28688</td>\n",
              "      <td>37428</td>\n",
              "      <td>16347</td>\n",
              "      <td>34972</td>\n",
              "      <td>7266</td>\n",
              "      <td>28469</td>\n",
              "      <td>3937</td>\n",
              "      <td>19220</td>\n",
              "      <td>Alabama</td>\n",
              "      <td>18189</td>\n",
              "      <td>11486</td>\n",
              "      <td>14907</td>\n",
              "      <td>5894</td>\n",
              "      <td>12537</td>\n",
              "      <td>2317</td>\n",
              "      <td>9026</td>\n",
              "      <td>1246</td>\n",
              "      <td>6048</td>\n",
              "      <td>Alabama</td>\n",
              "      <td>0.475</td>\n",
              "      <td>0.45799999999999996</td>\n",
              "      <td>0.42700000000000005</td>\n",
              "      <td>0.435</td>\n",
              "      <td>0.418</td>\n",
              "      <td>0.385</td>\n",
              "      <td>0.39299999999999996</td>\n",
              "    </tr>\n",
              "    <tr>\n",
              "      <th>3</th>\n",
              "      <td>Alaska</td>\n",
              "      <td>51571</td>\n",
              "      <td>41408</td>\n",
              "      <td>54023</td>\n",
              "      <td>25414</td>\n",
              "      <td>54369</td>\n",
              "      <td>11817</td>\n",
              "      <td>46301</td>\n",
              "      <td>Alaska</td>\n",
              "      <td>59036</td>\n",
              "      <td>46581</td>\n",
              "      <td>60772</td>\n",
              "      <td>28395</td>\n",
              "      <td>60747</td>\n",
              "      <td>12441</td>\n",
              "      <td>48746</td>\n",
              "      <td>7305</td>\n",
              "      <td>35663</td>\n",
              "      <td>Alaska</td>\n",
              "      <td>22660</td>\n",
              "      <td>17610</td>\n",
              "      <td>22855</td>\n",
              "      <td>10193</td>\n",
              "      <td>21681</td>\n",
              "      <td>3725</td>\n",
              "      <td>14511</td>\n",
              "      <td>2259</td>\n",
              "      <td>10965</td>\n",
              "      <td>Alaska</td>\n",
              "      <td>0.402</td>\n",
              "      <td>0.397</td>\n",
              "      <td>0.39299999999999996</td>\n",
              "      <td>0.377</td>\n",
              "      <td>0.387</td>\n",
              "      <td>0.369</td>\n",
              "      <td>0.366</td>\n",
              "    </tr>\n",
              "    <tr>\n",
              "      <th>4</th>\n",
              "      <td>Arizona</td>\n",
              "      <td>40558</td>\n",
              "      <td>27540</td>\n",
              "      <td>35930</td>\n",
              "      <td>16448</td>\n",
              "      <td>35188</td>\n",
              "      <td>8199</td>\n",
              "      <td>32125</td>\n",
              "      <td>Arizona</td>\n",
              "      <td>46723</td>\n",
              "      <td>32178</td>\n",
              "      <td>41981</td>\n",
              "      <td>19017</td>\n",
              "      <td>40684</td>\n",
              "      <td>9185</td>\n",
              "      <td>35988</td>\n",
              "      <td>5568</td>\n",
              "      <td>27183</td>\n",
              "      <td>Arizona</td>\n",
              "      <td>20275</td>\n",
              "      <td>13461</td>\n",
              "      <td>17471</td>\n",
              "      <td>7041</td>\n",
              "      <td>14977</td>\n",
              "      <td>2937</td>\n",
              "      <td>11442</td>\n",
              "      <td>1764</td>\n",
              "      <td>8562</td>\n",
              "      <td>Arizona</td>\n",
              "      <td>0.45</td>\n",
              "      <td>0.439</td>\n",
              "      <td>0.39899999999999997</td>\n",
              "      <td>0.429</td>\n",
              "      <td>0.413</td>\n",
              "      <td>0.365</td>\n",
              "      <td>0.363</td>\n",
              "    </tr>\n",
              "    <tr>\n",
              "      <th>5</th>\n",
              "      <td>Arkansas</td>\n",
              "      <td>32182</td>\n",
              "      <td>21147</td>\n",
              "      <td>27589</td>\n",
              "      <td>12214</td>\n",
              "      <td>26130</td>\n",
              "      <td>5356</td>\n",
              "      <td>20986</td>\n",
              "      <td>Arkansas</td>\n",
              "      <td>38663</td>\n",
              "      <td>25395</td>\n",
              "      <td>33132</td>\n",
              "      <td>14641</td>\n",
              "      <td>31322</td>\n",
              "      <td>6271</td>\n",
              "      <td>24571</td>\n",
              "      <td>3184</td>\n",
              "      <td>15544</td>\n",
              "      <td>Arkansas</td>\n",
              "      <td>16904</td>\n",
              "      <td>10520</td>\n",
              "      <td>13653</td>\n",
              "      <td>5614</td>\n",
              "      <td>11941</td>\n",
              "      <td>2142</td>\n",
              "      <td>8345</td>\n",
              "      <td>1125</td>\n",
              "      <td>5461</td>\n",
              "      <td>Arkansas</td>\n",
              "      <td>0.45799999999999996</td>\n",
              "      <td>0.45</td>\n",
              "      <td>0.428</td>\n",
              "      <td>0.42200000000000004</td>\n",
              "      <td>0.405</td>\n",
              "      <td>0.389</td>\n",
              "      <td>0.40399999999999997</td>\n",
              "    </tr>\n",
              "    <tr>\n",
              "      <th>6</th>\n",
              "      <td>California</td>\n",
              "      <td>47493</td>\n",
              "      <td>35798</td>\n",
              "      <td>46704</td>\n",
              "      <td>18243</td>\n",
              "      <td>39028</td>\n",
              "      <td>9302</td>\n",
              "      <td>36447</td>\n",
              "      <td>California</td>\n",
              "      <td>53025</td>\n",
              "      <td>40559</td>\n",
              "      <td>52915</td>\n",
              "      <td>21537</td>\n",
              "      <td>46075</td>\n",
              "      <td>10729</td>\n",
              "      <td>42038</td>\n",
              "      <td>6726</td>\n",
              "      <td>32836</td>\n",
              "      <td>California</td>\n",
              "      <td>22711</td>\n",
              "      <td>16409</td>\n",
              "      <td>21297</td>\n",
              "      <td>8295</td>\n",
              "      <td>17644</td>\n",
              "      <td>3614</td>\n",
              "      <td>14079</td>\n",
              "      <td>2308</td>\n",
              "      <td>11203</td>\n",
              "      <td>California</td>\n",
              "      <td>0.475</td>\n",
              "      <td>0.441</td>\n",
              "      <td>0.408</td>\n",
              "      <td>0.45799999999999996</td>\n",
              "      <td>0.42200000000000004</td>\n",
              "      <td>0.372</td>\n",
              "      <td>0.35700000000000004</td>\n",
              "    </tr>\n",
              "  </tbody>\n",
              "</table>\n",
              "</div>"
            ],
            "text/plain": [
              "    hou_state hou_1999d  ... gini_fam1979         gini_fam1969\n",
              "2     Alabama     34135  ...        0.385  0.39299999999999996\n",
              "3      Alaska     51571  ...        0.369                0.366\n",
              "4     Arizona     40558  ...        0.365                0.363\n",
              "5    Arkansas     32182  ...        0.389  0.40399999999999997\n",
              "6  California     47493  ...        0.372  0.35700000000000004\n",
              "\n",
              "[5 rows x 36 columns]"
            ]
          },
          "metadata": {
            "tags": []
          },
          "execution_count": 223
        }
      ]
    },
    {
      "cell_type": "code",
      "metadata": {
        "id": "bgNZ5ovbkJHV",
        "colab_type": "code",
        "colab": {}
      },
      "source": [
        "#Rounding off the gini values to 3 decimal places\n",
        "for col in ['gini_hou1999', 'gini_hou1989', 'gini_hou1979', 'gini_fam1999', 'gini_fam1989', 'gini_fam1979', 'gini_fam1969']:\n",
        "  sourcedata[col]=sourcedata[col].astype(float).round(3)\n",
        "\n",
        "for col1 in ['pci_1999d', 'pci_1989cd',\n",
        "       'pci_1989_1999d', 'pci_1979cd', 'pci_1979_1999d', 'pci_1969cd',\n",
        "       'pci_1969_1999d', 'pci_1959cd', 'pci_1959_1999d']:\n",
        "  sourcedata[col1]=sourcedata[col1].astype(float)"
      ],
      "execution_count": 0,
      "outputs": []
    },
    {
      "cell_type": "code",
      "metadata": {
        "id": "yUrxLE8SFGS9",
        "colab_type": "code",
        "colab": {
          "base_uri": "https://localhost:8080/",
          "height": 187
        },
        "outputId": "2bd7814c-9643-47ed-f25e-0482aea2fbfc"
      },
      "source": [
        "sourcedata.columns"
      ],
      "execution_count": 225,
      "outputs": [
        {
          "output_type": "execute_result",
          "data": {
            "text/plain": [
              "Index(['hou_state', 'hou_1999d', 'hou_1989cd', 'hou_1989_1999d', 'hou_1979cd',\n",
              "       'hou_1979_199d', 'hou_1969cd', 'hou_1969_1999d', 'fam_state',\n",
              "       'fam_1999d', 'fam_1989cd', 'fam_1989_1999d', 'fam_1979cd',\n",
              "       'fam_1979_199d', 'fam_1969cd', 'fam_1969_1999d', 'fam_1959cd',\n",
              "       'fam_1959_1999d', 'pci_state', 'pci_1999d', 'pci_1989cd',\n",
              "       'pci_1989_1999d', 'pci_1979cd', 'pci_1979_1999d', 'pci_1969cd',\n",
              "       'pci_1969_1999d', 'pci_1959cd', 'pci_1959_1999d', 'gini_state',\n",
              "       'gini_hou1999', 'gini_hou1989', 'gini_hou1979', 'gini_fam1999',\n",
              "       'gini_fam1989', 'gini_fam1979', 'gini_fam1969'],\n",
              "      dtype='object')"
            ]
          },
          "metadata": {
            "tags": []
          },
          "execution_count": 225
        }
      ]
    },
    {
      "cell_type": "code",
      "metadata": {
        "colab_type": "code",
        "outputId": "fc03e325-373d-4a80-e427-2db7aa2cf55c",
        "id": "dQMHyJ-tbhW6",
        "colab": {
          "base_uri": "https://localhost:8080/",
          "height": 382
        }
      },
      "source": [
        "#Data Exploration\n",
        "sns.pairplot(sourcedata[[\"gini_hou1989\",\"pci_1989_1999d\",]])\n"
      ],
      "execution_count": 226,
      "outputs": [
        {
          "output_type": "execute_result",
          "data": {
            "text/plain": [
              "<seaborn.axisgrid.PairGrid at 0x7faf9aca6eb8>"
            ]
          },
          "metadata": {
            "tags": []
          },
          "execution_count": 226
        },
        {
          "output_type": "display_data",
          "data": {
            "image/png": "[encoded data removed]",
            "text/plain": [
              "<Figure size 360x360 with 6 Axes>"
            ]
          },
          "metadata": {
            "tags": []
          }
        }
      ]
    },
    {
      "cell_type": "code",
      "metadata": {
        "id": "o3exE2vZJmpg",
        "colab_type": "code",
        "colab": {
          "base_uri": "https://localhost:8080/",
          "height": 382
        },
        "outputId": "c96f651c-15f4-474d-f8a9-1022a99a6b1e"
      },
      "source": [
        "sns.pairplot(sourcedata[[\"gini_hou1979\",\"pci_1979_1999d\",]])\n"
      ],
      "execution_count": 227,
      "outputs": [
        {
          "output_type": "execute_result",
          "data": {
            "text/plain": [
              "<seaborn.axisgrid.PairGrid at 0x7faf9ab97eb8>"
            ]
          },
          "metadata": {
            "tags": []
          },
          "execution_count": 227
        },
        {
          "output_type": "display_data",
          "data": {
            "image/png": "[encoded data removed]",
            "text/plain": [
              "<Figure size 360x360 with 6 Axes>"
            ]
          },
          "metadata": {
            "tags": []
          }
        }
      ]
    },
    {
      "cell_type": "code",
      "metadata": {
        "id": "ZzSh1zcoxyYX",
        "colab_type": "code",
        "colab": {}
      },
      "source": [
        "#Make first row as header and then drop it\n",
        "#gini.columns=gini.loc[0]"
      ],
      "execution_count": 0,
      "outputs": []
    },
    {
      "cell_type": "code",
      "metadata": {
        "id": "oTBBI74KyCFz",
        "colab_type": "code",
        "colab": {}
      },
      "source": [
        "#gini.drop(0,axis=0,inplace=True)\n",
        "#Drop row0 and row1 with united states data as well as do no need for this solution\n",
        "#gini.drop(1,axis=0,inplace=True)\n"
      ],
      "execution_count": 0,
      "outputs": []
    },
    {
      "cell_type": "code",
      "metadata": {
        "id": "junOtMWozKrw",
        "colab_type": "code",
        "colab": {}
      },
      "source": [
        "#Drop missing values\n",
        "#gini.dropna(axis=0,how='any',inplace=True)"
      ],
      "execution_count": 0,
      "outputs": []
    },
    {
      "cell_type": "markdown",
      "metadata": {
        "id": "OYVLCkiTwyir",
        "colab_type": "text"
      },
      "source": [
        "**Pre-Processing**"
      ]
    },
    {
      "cell_type": "code",
      "metadata": {
        "id": "IQwHjPzKwxX-",
        "colab_type": "code",
        "colab": {}
      },
      "source": [
        "#Capture Per Capita pci.head(4)"
      ],
      "execution_count": 0,
      "outputs": []
    },
    {
      "cell_type": "code",
      "metadata": {
        "id": "lAYuqeeD1DrB",
        "colab_type": "code",
        "colab": {}
      },
      "source": [
        "#Drop row 0 and 1\n",
        "#pci.drop([0,1],axis=0,inplace=True)"
      ],
      "execution_count": 0,
      "outputs": []
    },
    {
      "cell_type": "code",
      "metadata": {
        "id": "YU4q2fh11rdF",
        "colab_type": "code",
        "colab": {}
      },
      "source": [
        "#pci.dropna(axis=0,how='any',thresh=3,inplace=True)"
      ],
      "execution_count": 0,
      "outputs": []
    },
    {
      "cell_type": "code",
      "metadata": {
        "id": "r08Y59bS1v8b",
        "colab_type": "code",
        "colab": {}
      },
      "source": [
        "#Merge pci data for year-1999,1989,1979\n",
        "#pci_data1=pci['Unnamed: 1'].append(pci['Unnamed: 3'].append(pci['Unnamed: 5']))"
      ],
      "execution_count": 0,
      "outputs": []
    },
    {
      "cell_type": "code",
      "metadata": {
        "id": "wfUiqGbi8BjE",
        "colab_type": "code",
        "colab": {}
      },
      "source": [
        "#gini.columns=['State', '1999', '1989', '1979', 1999.0, 1989.0, 1979.0, 1969.0]"
      ],
      "execution_count": 0,
      "outputs": []
    },
    {
      "cell_type": "code",
      "metadata": {
        "id": "TYQ9XDSx8NfY",
        "colab_type": "code",
        "outputId": "075a8fcd-2d6e-4ef2-99ee-535826d96947",
        "colab": {
          "base_uri": "https://localhost:8080/",
          "height": 119
        }
      },
      "source": [
        "#gini[1999.0].head()"
      ],
      "execution_count": 17,
      "outputs": [
        {
          "output_type": "execute_result",
          "data": {
            "text/plain": [
              "2    0.435\n",
              "3    0.377\n",
              "4    0.429\n",
              "5    0.422\n",
              "6    0.458\n",
              "Name: 1999.0, dtype: float64"
            ]
          },
          "metadata": {
            "tags": []
          },
          "execution_count": 17
        }
      ]
    },
    {
      "cell_type": "code",
      "metadata": {
        "id": "JQ8wa2_h7h4M",
        "colab_type": "code",
        "colab": {}
      },
      "source": [
        "#gini_data1=gini['1999'].append(gini['1989'].append(gini['1979']))"
      ],
      "execution_count": 0,
      "outputs": []
    },
    {
      "cell_type": "code",
      "metadata": {
        "id": "N_tbltjId7VA",
        "colab_type": "code",
        "colab": {}
      },
      "source": [
        "#All gini data\n",
        "all_gini=sourcedata['gini_hou1999'].append(sourcedata['gini_hou1989'].append(sourcedata['gini_hou1979']))"
      ],
      "execution_count": 0,
      "outputs": []
    },
    {
      "cell_type": "code",
      "metadata": {
        "id": "sPoz5MdteQ8Z",
        "colab_type": "code",
        "colab": {}
      },
      "source": [
        "#All pci data\n",
        "all_pci=sourcedata['pci_1999d'].append(sourcedata['pci_1989_1999d'].append(sourcedata['pci_1979_1999d']))\n"
      ],
      "execution_count": 0,
      "outputs": []
    },
    {
      "cell_type": "code",
      "metadata": {
        "id": "cTZnfdfaiJu8",
        "colab_type": "code",
        "colab": {
          "base_uri": "https://localhost:8080/",
          "height": 34
        },
        "outputId": "5c5558fe-d276-422e-bab4-e1da339884d8"
      },
      "source": [
        "len(all_pci)"
      ],
      "execution_count": 189,
      "outputs": [
        {
          "output_type": "execute_result",
          "data": {
            "text/plain": [
              "153"
            ]
          },
          "metadata": {
            "tags": []
          },
          "execution_count": 189
        }
      ]
    },
    {
      "cell_type": "code",
      "metadata": {
        "id": "aTA48nAC2hxx",
        "colab_type": "code",
        "colab": {}
      },
      "source": [
        "#gini_data1=gini_data1.reset_index(drop=True)\n",
        "#pci_data1=pci_data1.reset_index(drop=True)"
      ],
      "execution_count": 0,
      "outputs": []
    },
    {
      "cell_type": "code",
      "metadata": {
        "id": "wdAcRESE8-vr",
        "colab_type": "code",
        "colab": {}
      },
      "source": [
        "#Lets map the two pandas series\n",
        "#gini_pci_data=pd.DataFrame({'gini':gini_data1,'pci':pci_data1})\n"
      ],
      "execution_count": 0,
      "outputs": []
    },
    {
      "cell_type": "code",
      "metadata": {
        "id": "XfN3n57S-BT-",
        "colab_type": "code",
        "outputId": "0c98c4bb-2377-4887-f0af-fd79db49e8e8",
        "colab": {
          "base_uri": "https://localhost:8080/",
          "height": 255
        }
      },
      "source": [
        "#gini_pci_data.head"
      ],
      "execution_count": 21,
      "outputs": [
        {
          "output_type": "execute_result",
          "data": {
            "text/plain": [
              "<bound method NDFrame.head of       gini     pci\n",
              "0    0.475  18,189\n",
              "1    0.402  22,660\n",
              "2    0.450  20,275\n",
              "3    0.458  16,904\n",
              "4    0.475  22,711\n",
              "..     ...     ...\n",
              "148  0.399  15,906\n",
              "149  0.388  17,172\n",
              "150  0.406  13,062\n",
              "151  0.381  15,406\n",
              "152  0.372  16,861\n",
              "\n",
              "[153 rows x 2 columns]>"
            ]
          },
          "metadata": {
            "tags": []
          },
          "execution_count": 21
        }
      ]
    },
    {
      "cell_type": "code",
      "metadata": {
        "id": "mV-OPdpvIJG2",
        "colab_type": "code",
        "colab": {}
      },
      "source": [
        "#gini_pci_data['pci']=gini_pci_data['pci'].apply(lambda x:x.replace(',',''))"
      ],
      "execution_count": 0,
      "outputs": []
    },
    {
      "cell_type": "code",
      "metadata": {
        "id": "aXB82bBz-4J0",
        "colab_type": "code",
        "colab": {}
      },
      "source": [
        "#Shuffle data set\n",
        "from sklearn.utils import shuffle\n",
        "dataset = shuffle(sourcedata)"
      ],
      "execution_count": 0,
      "outputs": []
    },
    {
      "cell_type": "code",
      "metadata": {
        "id": "Awpqlj1GIabf",
        "colab_type": "code",
        "outputId": "d4e87f9d-480e-430d-94c3-f32ef65e22e2",
        "colab": {
          "base_uri": "https://localhost:8080/",
          "height": 258
        }
      },
      "source": [
        "dataset.head()"
      ],
      "execution_count": 229,
      "outputs": [
        {
          "output_type": "execute_result",
          "data": {
            "text/html": [
              "<div>\n",
              "<style scoped>\n",
              "    .dataframe tbody tr th:only-of-type {\n",
              "        vertical-align: middle;\n",
              "    }\n",
              "\n",
              "    .dataframe tbody tr th {\n",
              "        vertical-align: top;\n",
              "    }\n",
              "\n",
              "    .dataframe thead th {\n",
              "        text-align: right;\n",
              "    }\n",
              "</style>\n",
              "<table border=\"1\" class=\"dataframe\">\n",
              "  <thead>\n",
              "    <tr style=\"text-align: right;\">\n",
              "      <th></th>\n",
              "      <th>hou_state</th>\n",
              "      <th>hou_1999d</th>\n",
              "      <th>hou_1989cd</th>\n",
              "      <th>hou_1989_1999d</th>\n",
              "      <th>hou_1979cd</th>\n",
              "      <th>hou_1979_199d</th>\n",
              "      <th>hou_1969cd</th>\n",
              "      <th>hou_1969_1999d</th>\n",
              "      <th>fam_state</th>\n",
              "      <th>fam_1999d</th>\n",
              "      <th>fam_1989cd</th>\n",
              "      <th>fam_1989_1999d</th>\n",
              "      <th>fam_1979cd</th>\n",
              "      <th>fam_1979_199d</th>\n",
              "      <th>fam_1969cd</th>\n",
              "      <th>fam_1969_1999d</th>\n",
              "      <th>fam_1959cd</th>\n",
              "      <th>fam_1959_1999d</th>\n",
              "      <th>pci_state</th>\n",
              "      <th>pci_1999d</th>\n",
              "      <th>pci_1989cd</th>\n",
              "      <th>pci_1989_1999d</th>\n",
              "      <th>pci_1979cd</th>\n",
              "      <th>pci_1979_1999d</th>\n",
              "      <th>pci_1969cd</th>\n",
              "      <th>pci_1969_1999d</th>\n",
              "      <th>pci_1959cd</th>\n",
              "      <th>pci_1959_1999d</th>\n",
              "      <th>gini_state</th>\n",
              "      <th>gini_hou1999</th>\n",
              "      <th>gini_hou1989</th>\n",
              "      <th>gini_hou1979</th>\n",
              "      <th>gini_fam1999</th>\n",
              "      <th>gini_fam1989</th>\n",
              "      <th>gini_fam1979</th>\n",
              "      <th>gini_fam1969</th>\n",
              "    </tr>\n",
              "  </thead>\n",
              "  <tbody>\n",
              "    <tr>\n",
              "      <th>10</th>\n",
              "      <td>D.C</td>\n",
              "      <td>40127</td>\n",
              "      <td>30727</td>\n",
              "      <td>40088</td>\n",
              "      <td>16211</td>\n",
              "      <td>34681</td>\n",
              "      <td>8283</td>\n",
              "      <td>32454</td>\n",
              "      <td>D.C</td>\n",
              "      <td>46283</td>\n",
              "      <td>36256</td>\n",
              "      <td>47301</td>\n",
              "      <td>19099</td>\n",
              "      <td>40859</td>\n",
              "      <td>9576</td>\n",
              "      <td>37520</td>\n",
              "      <td>5993</td>\n",
              "      <td>29258</td>\n",
              "      <td>D.C</td>\n",
              "      <td>28659.0</td>\n",
              "      <td>18881.0</td>\n",
              "      <td>24505.0</td>\n",
              "      <td>8960.0</td>\n",
              "      <td>19059.0</td>\n",
              "      <td>3842.0</td>\n",
              "      <td>14967.0</td>\n",
              "      <td>2404.0</td>\n",
              "      <td>11669.0</td>\n",
              "      <td>District of Columbia</td>\n",
              "      <td>0.549</td>\n",
              "      <td>0.492</td>\n",
              "      <td>0.450</td>\n",
              "      <td>0.562</td>\n",
              "      <td>0.489</td>\n",
              "      <td>0.434</td>\n",
              "      <td>0.425</td>\n",
              "    </tr>\n",
              "    <tr>\n",
              "      <th>31</th>\n",
              "      <td>New Hampshire</td>\n",
              "      <td>49467</td>\n",
              "      <td>36329</td>\n",
              "      <td>47397</td>\n",
              "      <td>17013</td>\n",
              "      <td>36397</td>\n",
              "      <td>8652</td>\n",
              "      <td>33900</td>\n",
              "      <td>New Hampshire</td>\n",
              "      <td>57575</td>\n",
              "      <td>41628</td>\n",
              "      <td>54310</td>\n",
              "      <td>19723</td>\n",
              "      <td>42194</td>\n",
              "      <td>9682</td>\n",
              "      <td>37935</td>\n",
              "      <td>5636</td>\n",
              "      <td>27515</td>\n",
              "      <td>New Hampshire</td>\n",
              "      <td>23844.0</td>\n",
              "      <td>15959.0</td>\n",
              "      <td>20713.0</td>\n",
              "      <td>6966.0</td>\n",
              "      <td>14817.0</td>\n",
              "      <td>2985.0</td>\n",
              "      <td>11629.0</td>\n",
              "      <td>1794.0</td>\n",
              "      <td>8708.0</td>\n",
              "      <td>New Hampshire</td>\n",
              "      <td>0.414</td>\n",
              "      <td>0.387</td>\n",
              "      <td>0.372</td>\n",
              "      <td>0.377</td>\n",
              "      <td>0.344</td>\n",
              "      <td>0.330</td>\n",
              "      <td>0.317</td>\n",
              "    </tr>\n",
              "    <tr>\n",
              "      <th>29</th>\n",
              "      <td>Nebraska</td>\n",
              "      <td>39250</td>\n",
              "      <td>26016</td>\n",
              "      <td>33942</td>\n",
              "      <td>15925</td>\n",
              "      <td>34069</td>\n",
              "      <td>7426</td>\n",
              "      <td>29096</td>\n",
              "      <td>Nebraska</td>\n",
              "      <td>48032</td>\n",
              "      <td>31634</td>\n",
              "      <td>41271</td>\n",
              "      <td>19122</td>\n",
              "      <td>40909</td>\n",
              "      <td>8562</td>\n",
              "      <td>33547</td>\n",
              "      <td>4862</td>\n",
              "      <td>23736</td>\n",
              "      <td>Nebraska</td>\n",
              "      <td>19613.0</td>\n",
              "      <td>12452.0</td>\n",
              "      <td>16161.0</td>\n",
              "      <td>6936.0</td>\n",
              "      <td>14753.0</td>\n",
              "      <td>2797.0</td>\n",
              "      <td>10896.0</td>\n",
              "      <td>1629.0</td>\n",
              "      <td>7907.0</td>\n",
              "      <td>Nebraska</td>\n",
              "      <td>0.424</td>\n",
              "      <td>0.414</td>\n",
              "      <td>0.396</td>\n",
              "      <td>0.384</td>\n",
              "      <td>0.375</td>\n",
              "      <td>0.351</td>\n",
              "      <td>0.355</td>\n",
              "    </tr>\n",
              "    <tr>\n",
              "      <th>52</th>\n",
              "      <td>Wyoming</td>\n",
              "      <td>37892</td>\n",
              "      <td>27096</td>\n",
              "      <td>35351</td>\n",
              "      <td>19994</td>\n",
              "      <td>42774</td>\n",
              "      <td>8035</td>\n",
              "      <td>31482</td>\n",
              "      <td>Wyoming</td>\n",
              "      <td>45685</td>\n",
              "      <td>32216</td>\n",
              "      <td>42031</td>\n",
              "      <td>22430</td>\n",
              "      <td>47986</td>\n",
              "      <td>8944</td>\n",
              "      <td>35044</td>\n",
              "      <td>5877</td>\n",
              "      <td>28692</td>\n",
              "      <td>Wyoming</td>\n",
              "      <td>19134.0</td>\n",
              "      <td>12311.0</td>\n",
              "      <td>15978.0</td>\n",
              "      <td>7927.0</td>\n",
              "      <td>16861.0</td>\n",
              "      <td>2895.0</td>\n",
              "      <td>11278.0</td>\n",
              "      <td>1888.0</td>\n",
              "      <td>9164.0</td>\n",
              "      <td>Wyoming</td>\n",
              "      <td>0.428</td>\n",
              "      <td>0.395</td>\n",
              "      <td>0.372</td>\n",
              "      <td>0.386</td>\n",
              "      <td>0.392</td>\n",
              "      <td>0.330</td>\n",
              "      <td>0.340</td>\n",
              "    </tr>\n",
              "    <tr>\n",
              "      <th>25</th>\n",
              "      <td>Minnesota</td>\n",
              "      <td>47111</td>\n",
              "      <td>30909</td>\n",
              "      <td>40325</td>\n",
              "      <td>17761</td>\n",
              "      <td>37997</td>\n",
              "      <td>8753</td>\n",
              "      <td>34295</td>\n",
              "      <td>Minnesota</td>\n",
              "      <td>56874</td>\n",
              "      <td>36916</td>\n",
              "      <td>48162</td>\n",
              "      <td>21185</td>\n",
              "      <td>45322</td>\n",
              "      <td>9928</td>\n",
              "      <td>38899</td>\n",
              "      <td>5573</td>\n",
              "      <td>27207</td>\n",
              "      <td>Minnesota</td>\n",
              "      <td>23198.0</td>\n",
              "      <td>14389.0</td>\n",
              "      <td>18675.0</td>\n",
              "      <td>7451.0</td>\n",
              "      <td>15849.0</td>\n",
              "      <td>3038.0</td>\n",
              "      <td>11835.0</td>\n",
              "      <td>1734.0</td>\n",
              "      <td>8417.0</td>\n",
              "      <td>Minnesota</td>\n",
              "      <td>0.426</td>\n",
              "      <td>0.418</td>\n",
              "      <td>0.391</td>\n",
              "      <td>0.387</td>\n",
              "      <td>0.379</td>\n",
              "      <td>0.346</td>\n",
              "      <td>0.346</td>\n",
              "    </tr>\n",
              "  </tbody>\n",
              "</table>\n",
              "</div>"
            ],
            "text/plain": [
              "        hou_state hou_1999d  ... gini_fam1979 gini_fam1969\n",
              "10            D.C     40127  ...        0.434        0.425\n",
              "31  New Hampshire     49467  ...        0.330        0.317\n",
              "29       Nebraska     39250  ...        0.351        0.355\n",
              "52        Wyoming     37892  ...        0.330        0.340\n",
              "25      Minnesota     47111  ...        0.346        0.346\n",
              "\n",
              "[5 rows x 36 columns]"
            ]
          },
          "metadata": {
            "tags": []
          },
          "execution_count": 229
        }
      ]
    },
    {
      "cell_type": "code",
      "metadata": {
        "id": "Vo5nbFTaFZg8",
        "colab_type": "code",
        "colab": {}
      },
      "source": [
        "#Create dataset for training and teting\n",
        "x_train=all_gini.head(120)\n",
        "y_train=all_pci.head(120)"
      ],
      "execution_count": 0,
      "outputs": []
    },
    {
      "cell_type": "code",
      "metadata": {
        "id": "6K1oo8grEh13",
        "colab_type": "code",
        "colab": {}
      },
      "source": [
        "x_test= all_gini.tail(33)\n",
        "y_test=all_pci.tail(33)"
      ],
      "execution_count": 0,
      "outputs": []
    },
    {
      "cell_type": "code",
      "metadata": {
        "id": "HezBjg7n1U4W",
        "colab_type": "code",
        "outputId": "8de8286f-dd0a-44f8-d620-d31cb3949720",
        "colab": {
          "base_uri": "https://localhost:8080/",
          "height": 241
        }
      },
      "source": [
        "#Define Keras Layers-3 layers here  for Neural network\n",
        "l0 = tf.keras.layers.Dense(units=4, input_shape=[1])\n",
        "l1 = tf.keras.layers.Dense(units=4)\n",
        "l2 = tf.keras.layers.Dense(units=1)\n",
        "model = tf.keras.Sequential([l0, l1, l2])\n",
        "#model = tf.keras.Sequential([l0])\n",
        "\n",
        "model.compile(loss='mean_squared_error', optimizer=tf.keras.optimizers.Adam(0.1))\n",
        "history=model.fit(x_train, y_train, epochs=2000, verbose=False)\n",
        "print(\"Finished training the model\")\n",
        "print(model.predict([.545]))\n",
        "print(\"These are the l0 variables: {}\".format(l0.get_weights()))\n",
        "print(\"These are the l1 variables: {}\".format(l1.get_weights()))\n",
        "print(\"These are the l2 variables: {}\".format(l2.get_weights()))"
      ],
      "execution_count": 232,
      "outputs": [
        {
          "output_type": "stream",
          "text": [
            "Finished training the model\n",
            "[[23154.049]]\n",
            "These are the l0 variables: [array([[-19.279654, -19.600668, -19.79273 ,  20.446081]], dtype=float32), array([-0.78280634, -0.98578036, -1.1105618 ,  1.1485322 ], dtype=float32)]\n",
            "These are the l1 variables: [array([[-10.2794485,  10.7838125, -10.963035 ,  -9.62867  ],\n",
            "       [-10.867879 ,  10.74508  , -10.755746 , -10.038023 ],\n",
            "       [-11.138331 ,  10.0171995, -11.0358925, -11.172173 ],\n",
            "       [ 10.574254 , -12.012618 ,  11.554652 ,  12.01859  ]],\n",
            "      dtype=float32), array([ 2.572223 , -2.643486 ,  2.6250062,  2.6356041], dtype=float32)]\n",
            "These are the l2 variables: [array([[ 11.113166],\n",
            "       [-11.339063],\n",
            "       [ 11.330592],\n",
            "       [ 11.189601]], dtype=float32), array([3.511538], dtype=float32)]\n"
          ],
          "name": "stdout"
        }
      ]
    },
    {
      "cell_type": "code",
      "metadata": {
        "id": "80_sp9vKI4i9",
        "colab_type": "code",
        "outputId": "ebcc504b-ac95-442f-ac82-596ffc0dffff",
        "colab": {
          "base_uri": "https://localhost:8080/",
          "height": 34
        }
      },
      "source": [
        "#Use the model to predict\n",
        "print(model.predict([.990]))"
      ],
      "execution_count": 233,
      "outputs": [
        {
          "output_type": "stream",
          "text": [
            "[[40348.55]]\n"
          ],
          "name": "stdout"
        }
      ]
    },
    {
      "cell_type": "code",
      "metadata": {
        "id": "JG-bvCTNGjRl",
        "colab_type": "code",
        "colab": {
          "base_uri": "https://localhost:8080/",
          "height": 255
        },
        "outputId": "0b26153b-ed68-4aaa-cb56-979c22bdba7a"
      },
      "source": [
        "model.summary()"
      ],
      "execution_count": 234,
      "outputs": [
        {
          "output_type": "stream",
          "text": [
            "Model: \"sequential_1\"\n",
            "_________________________________________________________________\n",
            "Layer (type)                 Output Shape              Param #   \n",
            "=================================================================\n",
            "dense_3 (Dense)              (None, 4)                 8         \n",
            "_________________________________________________________________\n",
            "dense_4 (Dense)              (None, 4)                 20        \n",
            "_________________________________________________________________\n",
            "dense_5 (Dense)              (None, 1)                 5         \n",
            "=================================================================\n",
            "Total params: 33\n",
            "Trainable params: 33\n",
            "Non-trainable params: 0\n",
            "_________________________________________________________________\n"
          ],
          "name": "stdout"
        }
      ]
    },
    {
      "cell_type": "code",
      "metadata": {
        "id": "VfgK-6tJ88Nf",
        "colab_type": "code",
        "colab": {
          "base_uri": "https://localhost:8080/",
          "height": 204
        },
        "outputId": "555491d3-e9ad-4304-db05-2f6d19a09d5f"
      },
      "source": [
        "#Visualize the model's training progress using the stats stored in the history object.\n",
        "hist = pd.DataFrame(history.history)\n",
        "hist['epoch'] = history.epoch\n",
        "hist.tail()\n"
      ],
      "execution_count": 235,
      "outputs": [
        {
          "output_type": "execute_result",
          "data": {
            "text/html": [
              "<div>\n",
              "<style scoped>\n",
              "    .dataframe tbody tr th:only-of-type {\n",
              "        vertical-align: middle;\n",
              "    }\n",
              "\n",
              "    .dataframe tbody tr th {\n",
              "        vertical-align: top;\n",
              "    }\n",
              "\n",
              "    .dataframe thead th {\n",
              "        text-align: right;\n",
              "    }\n",
              "</style>\n",
              "<table border=\"1\" class=\"dataframe\">\n",
              "  <thead>\n",
              "    <tr style=\"text-align: right;\">\n",
              "      <th></th>\n",
              "      <th>loss</th>\n",
              "      <th>epoch</th>\n",
              "    </tr>\n",
              "  </thead>\n",
              "  <tbody>\n",
              "    <tr>\n",
              "      <th>1995</th>\n",
              "      <td>1.151452e+07</td>\n",
              "      <td>1995</td>\n",
              "    </tr>\n",
              "    <tr>\n",
              "      <th>1996</th>\n",
              "      <td>1.155934e+07</td>\n",
              "      <td>1996</td>\n",
              "    </tr>\n",
              "    <tr>\n",
              "      <th>1997</th>\n",
              "      <td>1.148393e+07</td>\n",
              "      <td>1997</td>\n",
              "    </tr>\n",
              "    <tr>\n",
              "      <th>1998</th>\n",
              "      <td>1.139093e+07</td>\n",
              "      <td>1998</td>\n",
              "    </tr>\n",
              "    <tr>\n",
              "      <th>1999</th>\n",
              "      <td>1.138354e+07</td>\n",
              "      <td>1999</td>\n",
              "    </tr>\n",
              "  </tbody>\n",
              "</table>\n",
              "</div>"
            ],
            "text/plain": [
              "              loss  epoch\n",
              "1995  1.151452e+07   1995\n",
              "1996  1.155934e+07   1996\n",
              "1997  1.148393e+07   1997\n",
              "1998  1.139093e+07   1998\n",
              "1999  1.138354e+07   1999"
            ]
          },
          "metadata": {
            "tags": []
          },
          "execution_count": 235
        }
      ]
    },
    {
      "cell_type": "code",
      "metadata": {
        "id": "dRxqeYKyB82p",
        "colab_type": "code",
        "colab": {}
      },
      "source": [
        "#Flatten y_test\n",
        "y_test=y_test.ravel()"
      ],
      "execution_count": 0,
      "outputs": []
    },
    {
      "cell_type": "code",
      "metadata": {
        "id": "DtbFOoFeCrPb",
        "colab_type": "code",
        "colab": {}
      },
      "source": [
        "#Flaten x_test\n",
        "x_test=x_test.ravel()"
      ],
      "execution_count": 0,
      "outputs": []
    },
    {
      "cell_type": "code",
      "metadata": {
        "id": "bvCrqat69pGx",
        "colab_type": "code",
        "colab": {
          "base_uri": "https://localhost:8080/",
          "height": 283
        },
        "outputId": "721e75b8-afbb-4ce3-e0af-5f0dc1b6ee69"
      },
      "source": [
        "#Make predictions\n",
        "test_predictions = model.predict(test_predictions).flatten()\n",
        "\n",
        "a = plt.axes(aspect='equal')\n",
        "plt.scatter(y_test, test_predictions)\n",
        "plt.xlabel('True Gini')\n",
        "plt.ylabel('Predictions PCI')\n",
        "lims = [0, 50]\n",
        "plt.xlim(lims)\n",
        "plt.ylim(lims)\n",
        "_ = plt.plot(lims, lims)"
      ],
      "execution_count": 238,
      "outputs": [
        {
          "output_type": "display_data",
          "data": {
            "image/png": "[encoded data removed]",
            "text/plain": [
              "<Figure size 432x288 with 1 Axes>"
            ]
          },
          "metadata": {
            "tags": []
          }
        }
      ]
    },
    {
      "cell_type": "code",
      "metadata": {
        "id": "mOArQLtqAYGR",
        "colab_type": "code",
        "colab": {
          "base_uri": "https://localhost:8080/",
          "height": 279
        },
        "outputId": "30f28cca-5628-4f88-e772-6ff2628c0763"
      },
      "source": [
        "error = test_predictions - y_test\n",
        "plt.hist(error, bins = 15)\n",
        "plt.xlabel(\"Prediction Error PCI\")\n",
        "plot = plt.ylabel(\"Count\")"
      ],
      "execution_count": 239,
      "outputs": [
        {
          "output_type": "display_data",
          "data": {
            "image/png": "[encoded data removed]",
            "text/plain": [
              "<Figure size 432x288 with 1 Axes>"
            ]
          },
          "metadata": {
            "tags": []
          }
        }
      ]
    }
  ]
}